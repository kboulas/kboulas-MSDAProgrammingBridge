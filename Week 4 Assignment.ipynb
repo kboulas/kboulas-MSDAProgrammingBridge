{
 "metadata": {
  "name": "",
  "signature": "sha256:21b6a87a07102b75c4ffee4311dbd96ff4ba2c9bf464475e1a4d44fbaadf8ca7"
 },
 "nbformat": 3,
 "nbformat_minor": 0,
 "worksheets": [
  {
   "cells": [
    {
     "cell_type": "code",
     "collapsed": false,
     "input": [
      "# Kevin Boulas\n",
      "# Week 4 Assignment"
     ],
     "language": "python",
     "metadata": {},
     "outputs": [],
     "prompt_number": 2
    },
    {
     "cell_type": "code",
     "collapsed": false,
     "input": [
      "message = 'Hello World'\n",
      "print message"
     ],
     "language": "python",
     "metadata": {},
     "outputs": [
      {
       "output_type": "stream",
       "stream": "stdout",
       "text": [
        "Hello World\n"
       ]
      }
     ],
     "prompt_number": 1
    }
   ],
   "metadata": {}
  }
 ]
}